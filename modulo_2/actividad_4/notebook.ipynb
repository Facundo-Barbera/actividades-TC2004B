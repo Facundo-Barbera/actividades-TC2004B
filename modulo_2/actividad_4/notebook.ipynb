{
 "cells": [
  {
   "cell_type": "code",
   "execution_count": 55,
   "id": "initial_id",
   "metadata": {
    "ExecuteTime": {
     "end_time": "2025-04-03T21:58:31.691357Z",
     "start_time": "2025-04-03T21:58:31.685043Z"
    },
    "collapsed": true,
    "jupyter": {
     "outputs_hidden": true
    }
   },
   "outputs": [],
   "source": [
    "import pandas as pd\n",
    "import numpy as np\n",
    "import matplotlib.pyplot as plt\n",
    "import seaborn as sns"
   ]
  },
  {
   "cell_type": "markdown",
   "id": "8273bc3f507bc783",
   "metadata": {},
   "source": [
    "# Actividad 4\n",
    "\n",
    "## Parte 1"
   ]
  },
  {
   "cell_type": "code",
   "execution_count": 56,
   "id": "dc048a1e6cb54b88",
   "metadata": {
    "ExecuteTime": {
     "end_time": "2025-04-03T21:58:31.731749Z",
     "start_time": "2025-04-03T21:58:31.721458Z"
    }
   },
   "outputs": [],
   "source": [
    "dataframe = pd.read_csv('Wholesale customers data.csv')"
   ]
  },
  {
   "cell_type": "code",
   "execution_count": 57,
   "id": "aae3c129efeb2db0",
   "metadata": {
    "ExecuteTime": {
     "end_time": "2025-04-03T21:58:31.746510Z",
     "start_time": "2025-04-03T21:58:31.739994Z"
    }
   },
   "outputs": [
    {
     "data": {
      "text/html": [
       "<div>\n",
       "<style scoped>\n",
       "    .dataframe tbody tr th:only-of-type {\n",
       "        vertical-align: middle;\n",
       "    }\n",
       "\n",
       "    .dataframe tbody tr th {\n",
       "        vertical-align: top;\n",
       "    }\n",
       "\n",
       "    .dataframe thead th {\n",
       "        text-align: right;\n",
       "    }\n",
       "</style>\n",
       "<table border=\"1\" class=\"dataframe\">\n",
       "  <thead>\n",
       "    <tr style=\"text-align: right;\">\n",
       "      <th></th>\n",
       "      <th>Channel</th>\n",
       "      <th>Region</th>\n",
       "      <th>Fresh</th>\n",
       "      <th>Milk</th>\n",
       "      <th>Grocery</th>\n",
       "      <th>Frozen</th>\n",
       "      <th>Detergents_Paper</th>\n",
       "      <th>Delicassen</th>\n",
       "    </tr>\n",
       "  </thead>\n",
       "  <tbody>\n",
       "    <tr>\n",
       "      <th>0</th>\n",
       "      <td>2</td>\n",
       "      <td>3</td>\n",
       "      <td>12669</td>\n",
       "      <td>9656</td>\n",
       "      <td>7561</td>\n",
       "      <td>214</td>\n",
       "      <td>2674</td>\n",
       "      <td>1338</td>\n",
       "    </tr>\n",
       "    <tr>\n",
       "      <th>1</th>\n",
       "      <td>2</td>\n",
       "      <td>3</td>\n",
       "      <td>7057</td>\n",
       "      <td>9810</td>\n",
       "      <td>9568</td>\n",
       "      <td>1762</td>\n",
       "      <td>3293</td>\n",
       "      <td>1776</td>\n",
       "    </tr>\n",
       "    <tr>\n",
       "      <th>2</th>\n",
       "      <td>2</td>\n",
       "      <td>3</td>\n",
       "      <td>6353</td>\n",
       "      <td>8808</td>\n",
       "      <td>7684</td>\n",
       "      <td>2405</td>\n",
       "      <td>3516</td>\n",
       "      <td>7844</td>\n",
       "    </tr>\n",
       "    <tr>\n",
       "      <th>3</th>\n",
       "      <td>1</td>\n",
       "      <td>3</td>\n",
       "      <td>13265</td>\n",
       "      <td>1196</td>\n",
       "      <td>4221</td>\n",
       "      <td>6404</td>\n",
       "      <td>507</td>\n",
       "      <td>1788</td>\n",
       "    </tr>\n",
       "    <tr>\n",
       "      <th>4</th>\n",
       "      <td>2</td>\n",
       "      <td>3</td>\n",
       "      <td>22615</td>\n",
       "      <td>5410</td>\n",
       "      <td>7198</td>\n",
       "      <td>3915</td>\n",
       "      <td>1777</td>\n",
       "      <td>5185</td>\n",
       "    </tr>\n",
       "    <tr>\n",
       "      <th>...</th>\n",
       "      <td>...</td>\n",
       "      <td>...</td>\n",
       "      <td>...</td>\n",
       "      <td>...</td>\n",
       "      <td>...</td>\n",
       "      <td>...</td>\n",
       "      <td>...</td>\n",
       "      <td>...</td>\n",
       "    </tr>\n",
       "    <tr>\n",
       "      <th>435</th>\n",
       "      <td>1</td>\n",
       "      <td>3</td>\n",
       "      <td>29703</td>\n",
       "      <td>12051</td>\n",
       "      <td>16027</td>\n",
       "      <td>13135</td>\n",
       "      <td>182</td>\n",
       "      <td>2204</td>\n",
       "    </tr>\n",
       "    <tr>\n",
       "      <th>436</th>\n",
       "      <td>1</td>\n",
       "      <td>3</td>\n",
       "      <td>39228</td>\n",
       "      <td>1431</td>\n",
       "      <td>764</td>\n",
       "      <td>4510</td>\n",
       "      <td>93</td>\n",
       "      <td>2346</td>\n",
       "    </tr>\n",
       "    <tr>\n",
       "      <th>437</th>\n",
       "      <td>2</td>\n",
       "      <td>3</td>\n",
       "      <td>14531</td>\n",
       "      <td>15488</td>\n",
       "      <td>30243</td>\n",
       "      <td>437</td>\n",
       "      <td>14841</td>\n",
       "      <td>1867</td>\n",
       "    </tr>\n",
       "    <tr>\n",
       "      <th>438</th>\n",
       "      <td>1</td>\n",
       "      <td>3</td>\n",
       "      <td>10290</td>\n",
       "      <td>1981</td>\n",
       "      <td>2232</td>\n",
       "      <td>1038</td>\n",
       "      <td>168</td>\n",
       "      <td>2125</td>\n",
       "    </tr>\n",
       "    <tr>\n",
       "      <th>439</th>\n",
       "      <td>1</td>\n",
       "      <td>3</td>\n",
       "      <td>2787</td>\n",
       "      <td>1698</td>\n",
       "      <td>2510</td>\n",
       "      <td>65</td>\n",
       "      <td>477</td>\n",
       "      <td>52</td>\n",
       "    </tr>\n",
       "  </tbody>\n",
       "</table>\n",
       "<p>440 rows × 8 columns</p>\n",
       "</div>"
      ],
      "text/plain": [
       "     Channel  Region  Fresh   Milk  Grocery  Frozen  Detergents_Paper  \\\n",
       "0          2       3  12669   9656     7561     214              2674   \n",
       "1          2       3   7057   9810     9568    1762              3293   \n",
       "2          2       3   6353   8808     7684    2405              3516   \n",
       "3          1       3  13265   1196     4221    6404               507   \n",
       "4          2       3  22615   5410     7198    3915              1777   \n",
       "..       ...     ...    ...    ...      ...     ...               ...   \n",
       "435        1       3  29703  12051    16027   13135               182   \n",
       "436        1       3  39228   1431      764    4510                93   \n",
       "437        2       3  14531  15488    30243     437             14841   \n",
       "438        1       3  10290   1981     2232    1038               168   \n",
       "439        1       3   2787   1698     2510      65               477   \n",
       "\n",
       "     Delicassen  \n",
       "0          1338  \n",
       "1          1776  \n",
       "2          7844  \n",
       "3          1788  \n",
       "4          5185  \n",
       "..          ...  \n",
       "435        2204  \n",
       "436        2346  \n",
       "437        1867  \n",
       "438        2125  \n",
       "439          52  \n",
       "\n",
       "[440 rows x 8 columns]"
      ]
     },
     "execution_count": 57,
     "metadata": {},
     "output_type": "execute_result"
    }
   ],
   "source": [
    "dataframe"
   ]
  },
  {
   "cell_type": "code",
   "execution_count": 58,
   "id": "96be828251a8cad3",
   "metadata": {
    "ExecuteTime": {
     "end_time": "2025-04-03T21:58:31.795302Z",
     "start_time": "2025-04-03T21:58:31.786972Z"
    }
   },
   "outputs": [
    {
     "data": {
      "text/html": [
       "<div>\n",
       "<style scoped>\n",
       "    .dataframe tbody tr th:only-of-type {\n",
       "        vertical-align: middle;\n",
       "    }\n",
       "\n",
       "    .dataframe tbody tr th {\n",
       "        vertical-align: top;\n",
       "    }\n",
       "\n",
       "    .dataframe thead th {\n",
       "        text-align: right;\n",
       "    }\n",
       "</style>\n",
       "<table border=\"1\" class=\"dataframe\">\n",
       "  <thead>\n",
       "    <tr style=\"text-align: right;\">\n",
       "      <th></th>\n",
       "      <th>Channel</th>\n",
       "      <th>Region</th>\n",
       "      <th>Fresh</th>\n",
       "      <th>Milk</th>\n",
       "      <th>Grocery</th>\n",
       "      <th>Frozen</th>\n",
       "      <th>Detergents_Paper</th>\n",
       "      <th>Delicassen</th>\n",
       "      <th>Spending</th>\n",
       "    </tr>\n",
       "  </thead>\n",
       "  <tbody>\n",
       "    <tr>\n",
       "      <th>0</th>\n",
       "      <td>2</td>\n",
       "      <td>3</td>\n",
       "      <td>12669</td>\n",
       "      <td>9656</td>\n",
       "      <td>7561</td>\n",
       "      <td>214</td>\n",
       "      <td>2674</td>\n",
       "      <td>1338</td>\n",
       "      <td>34112</td>\n",
       "    </tr>\n",
       "    <tr>\n",
       "      <th>1</th>\n",
       "      <td>2</td>\n",
       "      <td>3</td>\n",
       "      <td>7057</td>\n",
       "      <td>9810</td>\n",
       "      <td>9568</td>\n",
       "      <td>1762</td>\n",
       "      <td>3293</td>\n",
       "      <td>1776</td>\n",
       "      <td>33266</td>\n",
       "    </tr>\n",
       "    <tr>\n",
       "      <th>2</th>\n",
       "      <td>2</td>\n",
       "      <td>3</td>\n",
       "      <td>6353</td>\n",
       "      <td>8808</td>\n",
       "      <td>7684</td>\n",
       "      <td>2405</td>\n",
       "      <td>3516</td>\n",
       "      <td>7844</td>\n",
       "      <td>36610</td>\n",
       "    </tr>\n",
       "    <tr>\n",
       "      <th>3</th>\n",
       "      <td>1</td>\n",
       "      <td>3</td>\n",
       "      <td>13265</td>\n",
       "      <td>1196</td>\n",
       "      <td>4221</td>\n",
       "      <td>6404</td>\n",
       "      <td>507</td>\n",
       "      <td>1788</td>\n",
       "      <td>27381</td>\n",
       "    </tr>\n",
       "    <tr>\n",
       "      <th>4</th>\n",
       "      <td>2</td>\n",
       "      <td>3</td>\n",
       "      <td>22615</td>\n",
       "      <td>5410</td>\n",
       "      <td>7198</td>\n",
       "      <td>3915</td>\n",
       "      <td>1777</td>\n",
       "      <td>5185</td>\n",
       "      <td>46100</td>\n",
       "    </tr>\n",
       "    <tr>\n",
       "      <th>...</th>\n",
       "      <td>...</td>\n",
       "      <td>...</td>\n",
       "      <td>...</td>\n",
       "      <td>...</td>\n",
       "      <td>...</td>\n",
       "      <td>...</td>\n",
       "      <td>...</td>\n",
       "      <td>...</td>\n",
       "      <td>...</td>\n",
       "    </tr>\n",
       "    <tr>\n",
       "      <th>435</th>\n",
       "      <td>1</td>\n",
       "      <td>3</td>\n",
       "      <td>29703</td>\n",
       "      <td>12051</td>\n",
       "      <td>16027</td>\n",
       "      <td>13135</td>\n",
       "      <td>182</td>\n",
       "      <td>2204</td>\n",
       "      <td>73302</td>\n",
       "    </tr>\n",
       "    <tr>\n",
       "      <th>436</th>\n",
       "      <td>1</td>\n",
       "      <td>3</td>\n",
       "      <td>39228</td>\n",
       "      <td>1431</td>\n",
       "      <td>764</td>\n",
       "      <td>4510</td>\n",
       "      <td>93</td>\n",
       "      <td>2346</td>\n",
       "      <td>48372</td>\n",
       "    </tr>\n",
       "    <tr>\n",
       "      <th>437</th>\n",
       "      <td>2</td>\n",
       "      <td>3</td>\n",
       "      <td>14531</td>\n",
       "      <td>15488</td>\n",
       "      <td>30243</td>\n",
       "      <td>437</td>\n",
       "      <td>14841</td>\n",
       "      <td>1867</td>\n",
       "      <td>77407</td>\n",
       "    </tr>\n",
       "    <tr>\n",
       "      <th>438</th>\n",
       "      <td>1</td>\n",
       "      <td>3</td>\n",
       "      <td>10290</td>\n",
       "      <td>1981</td>\n",
       "      <td>2232</td>\n",
       "      <td>1038</td>\n",
       "      <td>168</td>\n",
       "      <td>2125</td>\n",
       "      <td>17834</td>\n",
       "    </tr>\n",
       "    <tr>\n",
       "      <th>439</th>\n",
       "      <td>1</td>\n",
       "      <td>3</td>\n",
       "      <td>2787</td>\n",
       "      <td>1698</td>\n",
       "      <td>2510</td>\n",
       "      <td>65</td>\n",
       "      <td>477</td>\n",
       "      <td>52</td>\n",
       "      <td>7589</td>\n",
       "    </tr>\n",
       "  </tbody>\n",
       "</table>\n",
       "<p>440 rows × 9 columns</p>\n",
       "</div>"
      ],
      "text/plain": [
       "     Channel  Region  Fresh   Milk  Grocery  Frozen  Detergents_Paper  \\\n",
       "0          2       3  12669   9656     7561     214              2674   \n",
       "1          2       3   7057   9810     9568    1762              3293   \n",
       "2          2       3   6353   8808     7684    2405              3516   \n",
       "3          1       3  13265   1196     4221    6404               507   \n",
       "4          2       3  22615   5410     7198    3915              1777   \n",
       "..       ...     ...    ...    ...      ...     ...               ...   \n",
       "435        1       3  29703  12051    16027   13135               182   \n",
       "436        1       3  39228   1431      764    4510                93   \n",
       "437        2       3  14531  15488    30243     437             14841   \n",
       "438        1       3  10290   1981     2232    1038               168   \n",
       "439        1       3   2787   1698     2510      65               477   \n",
       "\n",
       "     Delicassen  Spending  \n",
       "0          1338     34112  \n",
       "1          1776     33266  \n",
       "2          7844     36610  \n",
       "3          1788     27381  \n",
       "4          5185     46100  \n",
       "..          ...       ...  \n",
       "435        2204     73302  \n",
       "436        2346     48372  \n",
       "437        1867     77407  \n",
       "438        2125     17834  \n",
       "439          52      7589  \n",
       "\n",
       "[440 rows x 9 columns]"
      ]
     },
     "execution_count": 58,
     "metadata": {},
     "output_type": "execute_result"
    }
   ],
   "source": [
    "# Añadir columna \"Spending\" con los gastos totales por fila\n",
    "dataframe['Spending'] = dataframe[['Fresh', 'Milk', 'Grocery', 'Frozen', 'Detergents_Paper', 'Delicassen']].sum(axis=1)\n",
    "dataframe"
   ]
  },
  {
   "cell_type": "code",
   "execution_count": 59,
   "id": "b9bbe6a7085f6954",
   "metadata": {
    "ExecuteTime": {
     "end_time": "2025-04-03T21:58:31.856779Z",
     "start_time": "2025-04-03T21:58:31.852622Z"
    }
   },
   "outputs": [
    {
     "data": {
      "text/plain": [
       "Region\n",
       "1     77\n",
       "2     47\n",
       "3    316\n",
       "Name: Total, dtype: int64"
      ]
     },
     "execution_count": 59,
     "metadata": {},
     "output_type": "execute_result"
    }
   ],
   "source": [
    "#  Generar una columna que sume el gasto total por cada renglón\n",
    "n_by_region = dataframe.groupby('Region').size().rename('Total')\n",
    "n_by_region"
   ]
  },
  {
   "cell_type": "code",
   "execution_count": 60,
   "id": "d1420f40b7ea7828",
   "metadata": {
    "ExecuteTime": {
     "end_time": "2025-04-03T21:58:31.948872Z",
     "start_time": "2025-04-03T21:58:31.942967Z"
    }
   },
   "outputs": [
    {
     "data": {
      "text/html": [
       "<div>\n",
       "<style scoped>\n",
       "    .dataframe tbody tr th:only-of-type {\n",
       "        vertical-align: middle;\n",
       "    }\n",
       "\n",
       "    .dataframe tbody tr th {\n",
       "        vertical-align: top;\n",
       "    }\n",
       "\n",
       "    .dataframe thead th {\n",
       "        text-align: right;\n",
       "    }\n",
       "</style>\n",
       "<table border=\"1\" class=\"dataframe\">\n",
       "  <thead>\n",
       "    <tr style=\"text-align: right;\">\n",
       "      <th></th>\n",
       "      <th></th>\n",
       "      <th>Fresh</th>\n",
       "      <th>Milk</th>\n",
       "      <th>Grocery</th>\n",
       "      <th>Frozen</th>\n",
       "      <th>Detergents_Paper</th>\n",
       "      <th>Delicassen</th>\n",
       "      <th>Spending</th>\n",
       "    </tr>\n",
       "    <tr>\n",
       "      <th>Region</th>\n",
       "      <th>Channel</th>\n",
       "      <th></th>\n",
       "      <th></th>\n",
       "      <th></th>\n",
       "      <th></th>\n",
       "      <th></th>\n",
       "      <th></th>\n",
       "      <th></th>\n",
       "    </tr>\n",
       "  </thead>\n",
       "  <tbody>\n",
       "    <tr>\n",
       "      <th rowspan=\"2\" valign=\"top\">1</th>\n",
       "      <th>1</th>\n",
       "      <td>761233</td>\n",
       "      <td>228342</td>\n",
       "      <td>237542</td>\n",
       "      <td>184512</td>\n",
       "      <td>56081</td>\n",
       "      <td>70632</td>\n",
       "      <td>1538342</td>\n",
       "    </tr>\n",
       "    <tr>\n",
       "      <th>2</th>\n",
       "      <td>93600</td>\n",
       "      <td>194112</td>\n",
       "      <td>332495</td>\n",
       "      <td>46514</td>\n",
       "      <td>148055</td>\n",
       "      <td>33695</td>\n",
       "      <td>848471</td>\n",
       "    </tr>\n",
       "    <tr>\n",
       "      <th rowspan=\"2\" valign=\"top\">2</th>\n",
       "      <th>1</th>\n",
       "      <td>326215</td>\n",
       "      <td>64519</td>\n",
       "      <td>123074</td>\n",
       "      <td>160861</td>\n",
       "      <td>13516</td>\n",
       "      <td>30965</td>\n",
       "      <td>719150</td>\n",
       "    </tr>\n",
       "    <tr>\n",
       "      <th>2</th>\n",
       "      <td>138506</td>\n",
       "      <td>174625</td>\n",
       "      <td>310200</td>\n",
       "      <td>29271</td>\n",
       "      <td>159795</td>\n",
       "      <td>23541</td>\n",
       "      <td>835938</td>\n",
       "    </tr>\n",
       "    <tr>\n",
       "      <th rowspan=\"2\" valign=\"top\">3</th>\n",
       "      <th>1</th>\n",
       "      <td>2928269</td>\n",
       "      <td>735753</td>\n",
       "      <td>820101</td>\n",
       "      <td>771606</td>\n",
       "      <td>165990</td>\n",
       "      <td>320358</td>\n",
       "      <td>5742077</td>\n",
       "    </tr>\n",
       "    <tr>\n",
       "      <th>2</th>\n",
       "      <td>1032308</td>\n",
       "      <td>1153006</td>\n",
       "      <td>1675150</td>\n",
       "      <td>158886</td>\n",
       "      <td>724420</td>\n",
       "      <td>191752</td>\n",
       "      <td>4935522</td>\n",
       "    </tr>\n",
       "  </tbody>\n",
       "</table>\n",
       "</div>"
      ],
      "text/plain": [
       "                  Fresh     Milk  Grocery  Frozen  Detergents_Paper  \\\n",
       "Region Channel                                                        \n",
       "1      1         761233   228342   237542  184512             56081   \n",
       "       2          93600   194112   332495   46514            148055   \n",
       "2      1         326215    64519   123074  160861             13516   \n",
       "       2         138506   174625   310200   29271            159795   \n",
       "3      1        2928269   735753   820101  771606            165990   \n",
       "       2        1032308  1153006  1675150  158886            724420   \n",
       "\n",
       "                Delicassen  Spending  \n",
       "Region Channel                        \n",
       "1      1             70632   1538342  \n",
       "       2             33695    848471  \n",
       "2      1             30965    719150  \n",
       "       2             23541    835938  \n",
       "3      1            320358   5742077  \n",
       "       2            191752   4935522  "
      ]
     },
     "execution_count": 60,
     "metadata": {},
     "output_type": "execute_result"
    }
   ],
   "source": [
    "# Generar el total de gastos por región y por canal\n",
    "total_by_region = dataframe.groupby(['Region', 'Channel']).sum()\n",
    "total_by_region"
   ]
  },
  {
   "cell_type": "code",
   "execution_count": 61,
   "id": "cdc623a854df5b94",
   "metadata": {
    "ExecuteTime": {
     "end_time": "2025-04-03T21:58:32.026975Z",
     "start_time": "2025-04-03T21:58:32.021240Z"
    }
   },
   "outputs": [
    {
     "data": {
      "text/plain": [
       "Region\n",
       "1     422454\n",
       "2     239144\n",
       "3    1888759\n",
       "Name: Milk, dtype: int64"
      ]
     },
     "execution_count": 61,
     "metadata": {},
     "output_type": "execute_result"
    }
   ],
   "source": [
    "# Mostrar el total de lo que se gastó de leche por región,\n",
    "total_by_region_milk = dataframe.groupby(['Region']).sum()['Milk']\n",
    "total_by_region_milk"
   ]
  },
  {
   "cell_type": "code",
   "execution_count": 62,
   "id": "722bf6050df8ba74",
   "metadata": {
    "ExecuteTime": {
     "end_time": "2025-04-03T21:58:32.096149Z",
     "start_time": "2025-04-03T21:58:32.091794Z"
    }
   },
   "outputs": [
    {
     "data": {
      "text/plain": [
       "Channel\n",
       "1    1180717\n",
       "2    2317845\n",
       "Name: Grocery, dtype: int64"
      ]
     },
     "execution_count": 62,
     "metadata": {},
     "output_type": "execute_result"
    }
   ],
   "source": [
    "# Mostrar el total de lo que se gastó de abarrotes por canal\n",
    "total_by_channel_grocery = dataframe.groupby(['Channel']).sum()['Grocery']\n",
    "total_by_channel_grocery"
   ]
  },
  {
   "cell_type": "markdown",
   "id": "7f54a3fafe791efc",
   "metadata": {},
   "source": [
    "## Parte 2\n"
   ]
  },
  {
   "cell_type": "code",
   "execution_count": 63,
   "id": "8f214aced04ccd18",
   "metadata": {
    "ExecuteTime": {
     "end_time": "2025-04-03T21:58:32.178282Z",
     "start_time": "2025-04-03T21:58:32.174455Z"
    }
   },
   "outputs": [],
   "source": [
    "df = pd.read_csv('retail_data.csv')"
   ]
  },
  {
   "cell_type": "code",
   "execution_count": 64,
   "id": "c323e5aa1c2fd3e8",
   "metadata": {
    "ExecuteTime": {
     "end_time": "2025-04-03T21:58:32.221254Z",
     "start_time": "2025-04-03T21:58:32.216409Z"
    }
   },
   "outputs": [
    {
     "name": "stdout",
     "output_type": "stream",
     "text": [
      "Dataset Information:\n",
      "<class 'pandas.core.frame.DataFrame'>\n",
      "RangeIndex: 100 entries, 0 to 99\n",
      "Data columns (total 5 columns):\n",
      " #   Column              Non-Null Count  Dtype  \n",
      "---  ------              --------------  -----  \n",
      " 0   CustomerID          100 non-null    int64  \n",
      " 1   Age                 90 non-null     float64\n",
      " 2   Total Spend         90 non-null     float64\n",
      " 3   Purchase Frequency  90 non-null     float64\n",
      " 4   PurchaseDate        100 non-null    object \n",
      "dtypes: float64(3), int64(1), object(1)\n",
      "memory usage: 4.0+ KB\n",
      "None\n"
     ]
    }
   ],
   "source": [
    "print(\"Dataset Information:\")\n",
    "print(df.info())"
   ]
  },
  {
   "cell_type": "code",
   "execution_count": 65,
   "id": "c6fca4fc42f0d431",
   "metadata": {
    "ExecuteTime": {
     "end_time": "2025-04-03T21:58:32.276458Z",
     "start_time": "2025-04-03T21:58:32.272885Z"
    }
   },
   "outputs": [
    {
     "name": "stdout",
     "output_type": "stream",
     "text": [
      "\n",
      "First Few Rows of Data:\n",
      "   CustomerID   Age  Total Spend  Purchase Frequency PurchaseDate\n",
      "0           1  61.0       1873.0                23.0   2023-11-11\n",
      "1           2  42.0       3601.0                 7.0   2023-08-08\n",
      "2           3  20.0       4613.0                22.0   2023-12-26\n",
      "3           4  35.0       3015.0                 3.0   2023-02-02\n",
      "4           5  52.0       1336.0                26.0   2023-10-27\n"
     ]
    }
   ],
   "source": [
    "print(\"\\nFirst Few Rows of Data:\")\n",
    "print(df.head())"
   ]
  },
  {
   "cell_type": "code",
   "execution_count": 66,
   "id": "448a66f229689bbf",
   "metadata": {
    "ExecuteTime": {
     "end_time": "2025-04-03T21:58:32.312713Z",
     "start_time": "2025-04-03T21:58:32.305767Z"
    }
   },
   "outputs": [
    {
     "name": "stdout",
     "output_type": "stream",
     "text": [
      "\n",
      "Statistical Summary:\n",
      "       CustomerID        Age  Total Spend  Purchase Frequency\n",
      "count  100.000000  90.000000    90.000000           90.000000\n",
      "mean    50.500000  44.244444  3006.166667           16.244444\n",
      "std     29.011492  15.290675  1291.496251            7.834397\n",
      "min      1.000000  18.000000   645.000000            3.000000\n",
      "25%     25.750000  29.500000  1909.000000            9.250000\n",
      "50%     50.500000  45.500000  3091.500000           16.000000\n",
      "75%     75.250000  58.750000  4206.750000           23.000000\n",
      "max    100.000000  69.000000  4992.000000           28.000000\n"
     ]
    }
   ],
   "source": [
    "# Basic statistical summary\n",
    "print(\"\\nStatistical Summary:\")\n",
    "print(df.describe())"
   ]
  },
  {
   "cell_type": "code",
   "execution_count": 67,
   "id": "618b9ae3f161f2f",
   "metadata": {
    "ExecuteTime": {
     "end_time": "2025-04-03T21:58:32.347346Z",
     "start_time": "2025-04-03T21:58:32.344471Z"
    }
   },
   "outputs": [
    {
     "name": "stdout",
     "output_type": "stream",
     "text": [
      "\n",
      "Missing Values:\n",
      "CustomerID             0\n",
      "Age                   10\n",
      "Total Spend           10\n",
      "Purchase Frequency    10\n",
      "PurchaseDate           0\n",
      "dtype: int64\n"
     ]
    }
   ],
   "source": [
    "# Check for missing values\n",
    "print(\"\\nMissing Values:\")\n",
    "print(df.isnull().sum())"
   ]
  },
  {
   "cell_type": "code",
   "execution_count": 68,
   "id": "6879f89bf4c784da",
   "metadata": {
    "ExecuteTime": {
     "end_time": "2025-04-03T21:58:32.383261Z",
     "start_time": "2025-04-03T21:58:32.379602Z"
    }
   },
   "outputs": [
    {
     "name": "stdout",
     "output_type": "stream",
     "text": [
      "\n",
      "Unique values in PurchaseDate:\n",
      "PurchaseDate\n",
      "2023-06-15    4\n",
      "2023-10-26    4\n",
      "2023-11-11    2\n",
      "2023-01-20    2\n",
      "2023-01-31    2\n",
      "             ..\n",
      "2023-05-16    1\n",
      "2023-05-09    1\n",
      "2023-10-21    1\n",
      "2023-12-05    1\n",
      "2023-05-31    1\n",
      "Name: count, Length: 86, dtype: int64\n"
     ]
    }
   ],
   "source": [
    "# Unique values in categorical columns\n",
    "categorical_columns = df.select_dtypes(include=['object']).columns\n",
    "for col in categorical_columns:\n",
    "    print(f\"\\nUnique values in {col}:\")\n",
    "    print(df[col].value_counts())"
   ]
  },
  {
   "cell_type": "code",
   "execution_count": 69,
   "id": "aa228714eb20fc8c",
   "metadata": {
    "ExecuteTime": {
     "end_time": "2025-04-03T21:58:32.505523Z",
     "start_time": "2025-04-03T21:58:32.422033Z"
    }
   },
   "outputs": [
    {
     "data": {
      "image/png": "[encoded data removed]",
      "text/plain": [
       "<Figure size 1000x600 with 1 Axes>"
      ]
     },
     "metadata": {},
     "output_type": "display_data"
    }
   ],
   "source": [
    "# Visualize the distribution of a numerical column (e.g., 'Total Spend')\n",
    "plt.figure(figsize=(10, 6))\n",
    "sns.histplot(df['Total Spend'], kde=True)\n",
    "plt.title('Distribution of Total Spend')\n",
    "plt.xlabel('Total Spend')\n",
    "plt.ylabel('Count')\n",
    "plt.show()"
   ]
  },
  {
   "cell_type": "code",
   "execution_count": 70,
   "id": "acbbe78d8fd05f0f",
   "metadata": {
    "ExecuteTime": {
     "end_time": "2025-04-03T21:58:32.689299Z",
     "start_time": "2025-04-03T21:58:32.519866Z"
    }
   },
   "outputs": [
    {
     "data": {
      "image/png": "[encoded data removed]",
      "text/plain": [
       "<Figure size 1200x1000 with 2 Axes>"
      ]
     },
     "metadata": {},
     "output_type": "display_data"
    }
   ],
   "source": [
    "# Correlation matrix for numerical columns\n",
    "numerical_columns = df.select_dtypes(include=['int64', 'float64']).columns\n",
    "correlation_matrix = df[numerical_columns].corr()\n",
    "\n",
    "plt.figure(figsize=(12, 10))\n",
    "sns.heatmap(correlation_matrix, annot=True, cmap='coolwarm')\n",
    "plt.title('Correlation Matrix of Numerical Features')\n",
    "plt.show()"
   ]
  },
  {
   "cell_type": "code",
   "execution_count": 71,
   "id": "ad4cc4eb35204227",
   "metadata": {
    "ExecuteTime": {
     "end_time": "2025-04-03T21:58:32.719952Z",
     "start_time": "2025-04-03T21:58:32.715626Z"
    }
   },
   "outputs": [],
   "source": [
    "df = pd.read_csv('retail_data.csv')"
   ]
  },
  {
   "cell_type": "code",
   "execution_count": 72,
   "id": "94875c5180a75090",
   "metadata": {
    "ExecuteTime": {
     "end_time": "2025-04-03T21:58:32.741322Z",
     "start_time": "2025-04-03T21:58:32.737996Z"
    }
   },
   "outputs": [],
   "source": [
    "# Convert 'PurchaseDate' to datetime\n",
    "df['PurchaseDate'] = pd.to_datetime(df['PurchaseDate'])"
   ]
  },
  {
   "cell_type": "code",
   "execution_count": 73,
   "id": "1a07f0aa6f0e97c8",
   "metadata": {
    "ExecuteTime": {
     "end_time": "2025-04-03T21:58:32.770542Z",
     "start_time": "2025-04-03T21:58:32.767672Z"
    }
   },
   "outputs": [],
   "source": [
    "# Calculate Recency\n",
    "most_recent_date = df['PurchaseDate'].max()\n",
    "df['Recency'] = (most_recent_date - df['PurchaseDate']).dt.days"
   ]
  },
  {
   "cell_type": "code",
   "execution_count": 74,
   "id": "753a88bebf40b545",
   "metadata": {
    "ExecuteTime": {
     "end_time": "2025-04-03T21:58:32.777075Z",
     "start_time": "2025-04-03T21:58:32.774225Z"
    }
   },
   "outputs": [],
   "source": [
    "# Calculate the last purchase date per customer\n",
    "recency_df = df.groupby('CustomerID')['Recency'].min().reset_index()"
   ]
  },
  {
   "cell_type": "code",
   "execution_count": 75,
   "id": "49412b1d366648d0",
   "metadata": {
    "ExecuteTime": {
     "end_time": "2025-04-03T21:58:32.792423Z",
     "start_time": "2025-04-03T21:58:32.789268Z"
    }
   },
   "outputs": [],
   "source": [
    "# Merge Recency back to main dataset\n",
    "df = df.merge(recency_df, on='CustomerID', suffixes=('', '_Overall'))"
   ]
  },
  {
   "cell_type": "code",
   "execution_count": 76,
   "id": "8fd1d52f48543a15",
   "metadata": {
    "ExecuteTime": {
     "end_time": "2025-04-03T21:58:32.807995Z",
     "start_time": "2025-04-03T21:58:32.804483Z"
    }
   },
   "outputs": [
    {
     "name": "stdout",
     "output_type": "stream",
     "text": [
      "\n",
      "Data with Recency Feature:\n",
      "   CustomerID PurchaseDate  Recency_Overall\n",
      "0           1   2023-11-11               50\n",
      "1           2   2023-08-08              145\n",
      "2           3   2023-12-26                5\n",
      "3           4   2023-02-02              332\n",
      "4           5   2023-10-27               65\n"
     ]
    }
   ],
   "source": [
    "# Display the first few rows with the new Recency feature\n",
    "print(\"\\nData with Recency Feature:\")\n",
    "print(df[['CustomerID', 'PurchaseDate', 'Recency_Overall']].head())"
   ]
  },
  {
   "cell_type": "code",
   "execution_count": 77,
   "id": "8e8135108bf5d79c",
   "metadata": {
    "ExecuteTime": {
     "end_time": "2025-04-03T21:58:32.970523Z",
     "start_time": "2025-04-03T21:58:32.884846Z"
    }
   },
   "outputs": [
    {
     "data": {
      "image/png": "[encoded data removed]",
      "text/plain": [
       "<Figure size 1000x600 with 1 Axes>"
      ]
     },
     "metadata": {},
     "output_type": "display_data"
    }
   ],
   "source": [
    "# Visualize the distribution of Recency\n",
    "plt.figure(figsize=(10, 6))\n",
    "sns.histplot(df['Recency_Overall'], kde=True)\n",
    "plt.title('Distribution of Customer Recency')\n",
    "plt.xlabel('Recency (days)')\n",
    "plt.ylabel('Count')\n",
    "plt.show()"
   ]
  },
  {
   "cell_type": "code",
   "execution_count": 78,
   "id": "ca5f0414803a7de3",
   "metadata": {
    "ExecuteTime": {
     "end_time": "2025-04-03T21:58:32.990952Z",
     "start_time": "2025-04-03T21:58:32.986562Z"
    }
   },
   "outputs": [
    {
     "name": "stdout",
     "output_type": "stream",
     "text": [
      "\n",
      "Average Recency: 172.59 days\n",
      "Median Recency: 183.00 days\n",
      "Maximum Recency: 364.00 days\n"
     ]
    }
   ],
   "source": [
    "# Calculate additional statistics\n",
    "avg_recency = df['Recency_Overall'].mean()\n",
    "median_recency = df['Recency_Overall'].median()\n",
    "max_recency = df['Recency_Overall'].max()\n",
    "\n",
    "print(f\"\\nAverage Recency: {avg_recency:.2f} days\")\n",
    "print(f\"Median Recency: {median_recency:.2f} days\")\n",
    "print(f\"Maximum Recency: {max_recency:.2f} days\")"
   ]
  },
  {
   "cell_type": "code",
   "execution_count": 79,
   "id": "9885a73c87035848",
   "metadata": {
    "ExecuteTime": {
     "end_time": "2025-04-03T21:58:33.085762Z",
     "start_time": "2025-04-03T21:58:33.081978Z"
    }
   },
   "outputs": [
    {
     "name": "stdout",
     "output_type": "stream",
     "text": [
      "\n",
      "Number of customers with high recency (potential churn risk): 25\n"
     ]
    }
   ],
   "source": [
    "# Identify customers with high recency (potential churn risk)\n",
    "high_recency_threshold = df['Recency_Overall'].quantile(0.75)  # 75th percentile\n",
    "high_recency_customers = df[df['Recency_Overall'] > high_recency_threshold]\n",
    "\n",
    "print(f\"\\nNumber of customers with high recency (potential churn risk): {len(high_recency_customers)}\")"
   ]
  },
  {
   "cell_type": "code",
   "execution_count": 80,
   "id": "84c786a8a496e713",
   "metadata": {
    "ExecuteTime": {
     "end_time": "2025-04-03T21:58:33.194083Z",
     "start_time": "2025-04-03T21:58:33.191811Z"
    }
   },
   "outputs": [],
   "source": [
    "# Correlation between Recency and other features (if available)\n",
    "if 'TotalSpend' in df.columns:\n",
    "    correlation = df['Recency_Overall'].corr(df['TotalSpend'])\n",
    "    print(f\"\\nCorrelation between Recency and Total Spend: {correlation:.2f}\")"
   ]
  },
  {
   "cell_type": "code",
   "execution_count": 81,
   "id": "b46fd73221ad798d",
   "metadata": {
    "ExecuteTime": {
     "end_time": "2025-04-03T21:58:33.227129Z",
     "start_time": "2025-04-03T21:58:33.223455Z"
    }
   },
   "outputs": [
    {
     "name": "stdout",
     "output_type": "stream",
     "text": [
      "\n",
      "Updated dataset saved as 'retail_data_with_recency.csv'\n"
     ]
    }
   ],
   "source": [
    "# Save the updated dataset\n",
    "df.to_csv('retail_data_with_recency.csv', index=False)\n",
    "print(\"\\nUpdated dataset saved as 'retail_data_with_recency.csv'\")"
   ]
  }
 ],
 "metadata": {
  "kernelspec": {
   "display_name": "Python 3 (ipykernel)",
   "language": "python",
   "name": "python3"
  },
  "language_info": {
   "codemirror_mode": {
    "name": "ipython",
    "version": 3
   },
   "file_extension": ".py",
   "mimetype": "text/x-python",
   "name": "python",
   "nbconvert_exporter": "python",
   "pygments_lexer": "ipython3",
   "version": "3.12.2"
  }
 },
 "nbformat": 4,
 "nbformat_minor": 5
}
